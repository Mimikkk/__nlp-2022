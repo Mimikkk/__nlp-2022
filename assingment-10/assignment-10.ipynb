{
 "nbformat": 4,
 "nbformat_minor": 0,
 "metadata": {
  "colab": {
   "name": "lab10.ipynb",
   "provenance": [],
   "collapsed_sections": []
  },
  "kernelspec": {
   "name": "python3",
   "display_name": "Python 3"
  },
  "language_info": {
   "name": "python"
  }
 },
 "cells": [
  {
   "cell_type": "markdown",
   "source": [
    "# Wykrywanie encji nazwanych z Flair\n",
    "\n",
    "To już ostatnie laboratoria zadaniowe, w związku z tym, jeśli znajdziecie chwilę wolnego czasu, wypełnijcie proszę ankietę: https://docs.google.com/forms/d/1rHPjpL70XdXRD-ILl3AHophPNUk0AhsFus1-mtkUPsI\n",
    "\n",
    "Pozwoli to mi poprawić laboratoria w przyszłości, z góry dziękuję :)\n",
    "\n",
    "# Flair\n",
    "\n",
    "Biblioteka Flair to bardzo popularne narzędzie do tagowania sekwencji. Zaintstalujmy ją"
   ],
   "metadata": {
    "id": "OcjJ-YZy5-Pl"
   }
  },
  {
   "cell_type": "code",
   "source": [
    "!pip install flair"
   ],
   "metadata": {
    "id": "4inJhzI0wQmM"
   },
   "execution_count": 1,
   "outputs": [
    {
     "name": "stdout",
     "output_type": "stream",
     "text": [
      "Collecting flair\n",
      "  Downloading flair-0.11.3-py3-none-any.whl (401 kB)\n",
      "Requirement already satisfied: tqdm>=4.26.0 in c:\\users\\hououin kyouma\\pycharmprojects\\nlp-laboratories\\venv\\lib\\site-packages (from flair) (4.63.0)\n",
      "Collecting janome\n",
      "  Downloading Janome-0.4.2-py2.py3-none-any.whl (19.7 MB)\n",
      "Collecting sqlitedict>=1.6.0\n",
      "  Downloading sqlitedict-2.0.0.tar.gz (46 kB)\n",
      "Requirement already satisfied: huggingface-hub in c:\\users\\hououin kyouma\\pycharmprojects\\nlp-laboratories\\venv\\lib\\site-packages (from flair) (0.6.0)\n",
      "Collecting wikipedia-api\n",
      "  Downloading Wikipedia-API-0.5.4.tar.gz (18 kB)\n",
      "Requirement already satisfied: matplotlib>=2.2.3 in c:\\users\\hououin kyouma\\pycharmprojects\\nlp-laboratories\\venv\\lib\\site-packages (from flair) (3.5.1)\n",
      "Requirement already satisfied: torch!=1.8,>=1.5.0 in c:\\users\\hououin kyouma\\pycharmprojects\\nlp-laboratories\\venv\\lib\\site-packages (from flair) (1.11.0)\n",
      "Collecting deprecated>=1.2.4\n",
      "  Using cached Deprecated-1.2.13-py2.py3-none-any.whl (9.6 kB)\n",
      "Collecting mpld3==0.3\n",
      "  Downloading mpld3-0.3.tar.gz (788 kB)\n",
      "Requirement already satisfied: transformers>=4.0.0 in c:\\users\\hououin kyouma\\pycharmprojects\\nlp-laboratories\\venv\\lib\\site-packages (from flair) (4.19.2)\n",
      "Collecting conllu>=4.0\n",
      "  Downloading conllu-4.4.2-py2.py3-none-any.whl (15 kB)\n",
      "Collecting sentencepiece==0.1.95\n",
      "  Downloading sentencepiece-0.1.95.tar.gz (508 kB)\n",
      "Requirement already satisfied: scikit-learn>=0.21.3 in c:\\users\\hououin kyouma\\pycharmprojects\\nlp-laboratories\\venv\\lib\\site-packages (from flair) (1.0.2)\n",
      "Collecting hyperopt>=0.2.7\n",
      "  Downloading hyperopt-0.2.7-py2.py3-none-any.whl (1.6 MB)\n",
      "Collecting gensim>=3.4.0\n",
      "  Downloading gensim-4.2.0-cp310-cp310-win_amd64.whl (23.9 MB)\n",
      "Collecting segtok>=1.5.7\n",
      "  Downloading segtok-1.5.11-py3-none-any.whl (24 kB)\n",
      "Collecting gdown==4.4.0\n",
      "  Downloading gdown-4.4.0.tar.gz (14 kB)\n",
      "  Installing build dependencies: started\n",
      "  Installing build dependencies: finished with status 'done'\n",
      "  Getting requirements to build wheel: started\n",
      "  Getting requirements to build wheel: finished with status 'done'\n",
      "    Preparing wheel metadata: started\n",
      "    Preparing wheel metadata: finished with status 'done'\n",
      "Collecting pptree\n",
      "  Downloading pptree-3.1.tar.gz (3.0 kB)\n",
      "Collecting ftfy\n",
      "  Downloading ftfy-6.1.1-py3-none-any.whl (53 kB)\n",
      "Requirement already satisfied: python-dateutil>=2.6.1 in c:\\users\\hououin kyouma\\pycharmprojects\\nlp-laboratories\\venv\\lib\\site-packages (from flair) (2.8.2)\n",
      "Collecting more-itertools\n",
      "  Downloading more_itertools-8.13.0-py3-none-any.whl (51 kB)\n",
      "Collecting langdetect\n",
      "  Downloading langdetect-1.0.9.tar.gz (981 kB)\n",
      "Requirement already satisfied: regex in c:\\users\\hououin kyouma\\pycharmprojects\\nlp-laboratories\\venv\\lib\\site-packages (from flair) (2022.3.2)\n",
      "Collecting tabulate\n",
      "  Downloading tabulate-0.8.9-py3-none-any.whl (25 kB)\n",
      "Collecting konoha<5.0.0,>=4.0.0\n",
      "  Downloading konoha-4.6.5-py3-none-any.whl (20 kB)\n",
      "Collecting lxml\n",
      "  Downloading lxml-4.8.0-cp310-cp310-win_amd64.whl (3.6 MB)\n",
      "Collecting bpemb>=0.3.2\n",
      "  Downloading bpemb-0.3.3-py3-none-any.whl (19 kB)\n",
      "Requirement already satisfied: filelock in c:\\users\\hououin kyouma\\pycharmprojects\\nlp-laboratories\\venv\\lib\\site-packages (from gdown==4.4.0->flair) (3.7.0)\n",
      "Requirement already satisfied: requests[socks] in c:\\users\\hououin kyouma\\pycharmprojects\\nlp-laboratories\\venv\\lib\\site-packages (from gdown==4.4.0->flair) (2.27.1)\n",
      "Collecting beautifulsoup4\n",
      "  Using cached beautifulsoup4-4.11.1-py3-none-any.whl (128 kB)\n",
      "Requirement already satisfied: six in c:\\users\\hououin kyouma\\pycharmprojects\\nlp-laboratories\\venv\\lib\\site-packages (from gdown==4.4.0->flair) (1.16.0)\n",
      "Requirement already satisfied: numpy in c:\\users\\hououin kyouma\\pycharmprojects\\nlp-laboratories\\venv\\lib\\site-packages (from bpemb>=0.3.2->flair) (1.22.2)\n",
      "Requirement already satisfied: wrapt<2,>=1.10 in c:\\users\\hououin kyouma\\pycharmprojects\\nlp-laboratories\\venv\\lib\\site-packages (from deprecated>=1.2.4->flair) (1.14.1)\n",
      "Requirement already satisfied: scipy>=0.18.1 in c:\\users\\hououin kyouma\\pycharmprojects\\nlp-laboratories\\venv\\lib\\site-packages (from gensim>=3.4.0->flair) (1.8.0)\n",
      "Requirement already satisfied: smart-open>=1.8.1 in c:\\users\\hououin kyouma\\pycharmprojects\\nlp-laboratories\\venv\\lib\\site-packages (from gensim>=3.4.0->flair) (5.2.1)\n",
      "Collecting Cython==0.29.28\n",
      "  Downloading Cython-0.29.28-py2.py3-none-any.whl (983 kB)\n",
      "Collecting networkx>=2.2\n",
      "  Downloading networkx-2.8.2-py3-none-any.whl (2.0 MB)\n",
      "Collecting future\n",
      "  Using cached future-0.18.2-py3-none-any.whl\n",
      "Collecting cloudpickle\n",
      "  Downloading cloudpickle-2.1.0-py3-none-any.whl (25 kB)\n"
     ]
    },
    {
     "name": "stderr",
     "output_type": "stream",
     "text": [
      "  ERROR: Command errored out with exit status 1:\n",
      "   command: 'C:\\Users\\Hououin Kyouma\\PycharmProjects\\nlp-laboratories\\venv\\Scripts\\python.exe' -u -c 'import io, os, sys, setuptools, tokenize; sys.argv[0] = '\"'\"'C:\\\\Users\\\\Hououin Kyouma\\\\AppData\\\\Local\\\\Temp\\\\pip-install-bcb_kq0m\\\\sentencepiece_60a1a42af2bc411d84d24968cb6bcfad\\\\setup.py'\"'\"'; __file__='\"'\"'C:\\\\Users\\\\Hououin Kyouma\\\\AppData\\\\Local\\\\Temp\\\\pip-install-bcb_kq0m\\\\sentencepiece_60a1a42af2bc411d84d24968cb6bcfad\\\\setup.py'\"'\"';f = getattr(tokenize, '\"'\"'open'\"'\"', open)(__file__) if os.path.exists(__file__) else io.StringIO('\"'\"'from setuptools import setup; setup()'\"'\"');code = f.read().replace('\"'\"'\\r\\n'\"'\"', '\"'\"'\\n'\"'\"');f.close();exec(compile(code, __file__, '\"'\"'exec'\"'\"'))' bdist_wheel -d 'C:\\Users\\Hououin Kyouma\\AppData\\Local\\Temp\\pip-wheel-2_vw5b0l'\n",
      "       cwd: C:\\Users\\Hououin Kyouma\\AppData\\Local\\Temp\\pip-install-bcb_kq0m\\sentencepiece_60a1a42af2bc411d84d24968cb6bcfad\\\n",
      "  Complete output (22 lines):\n",
      "  C:\\Users\\Hououin Kyouma\\PycharmProjects\\nlp-laboratories\\venv\\lib\\site-packages\\setuptools\\dist.py:691: UserWarning: Usage of dash-separated 'description-file' will not be supported in future versions. Please use the underscore name 'description_file' instead\n",
      "    warnings.warn(\n",
      "  running bdist_wheel\n",
      "  running build\n",
      "  running build_py\n",
      "  creating build\n",
      "  creating build\\lib.win-amd64-3.10\n",
      "  creating build\\lib.win-amd64-3.10\\sentencepiece\n",
      "  copying src\\sentencepiece/__init__.py -> build\\lib.win-amd64-3.10\\sentencepiece\n",
      "  copying src\\sentencepiece/sentencepiece_model_pb2.py -> build\\lib.win-amd64-3.10\\sentencepiece\n",
      "  copying src\\sentencepiece/sentencepiece_pb2.py -> build\\lib.win-amd64-3.10\\sentencepiece\n",
      "  running build_ext\n",
      "  building 'sentencepiece._sentencepiece' extension\n",
      "  creating build\\temp.win-amd64-3.10\n",
      "  creating build\\temp.win-amd64-3.10\\Release\n",
      "  creating build\\temp.win-amd64-3.10\\Release\\src\n",
      "  creating build\\temp.win-amd64-3.10\\Release\\src\\sentencepiece\n",
      "  C:\\Program Files (x86)\\Microsoft Visual Studio\\2019\\Community\\VC\\Tools\\MSVC\\14.28.29333\\bin\\HostX86\\x64\\cl.exe /c /nologo /Ox /W3 /GL /DNDEBUG /MD -IC:\\Users\\Hououin Kyouma\\PycharmProjects\\nlp-laboratories\\venv\\include -IC:\\Users\\Hououin Kyouma\\AppData\\Local\\Programs\\Python\\Python310\\include -IC:\\Users\\Hououin Kyouma\\AppData\\Local\\Programs\\Python\\Python310\\Include -IC:\\Program Files (x86)\\Microsoft Visual Studio\\2019\\Community\\VC\\Tools\\MSVC\\14.28.29333\\ATLMFC\\include -IC:\\Program Files (x86)\\Microsoft Visual Studio\\2019\\Community\\VC\\Tools\\MSVC\\14.28.29333\\include -IC:\\Program Files (x86)\\Windows Kits\\NETFXSDK\\4.6.1\\include\\um -IC:\\Program Files (x86)\\Windows Kits\\10\\include\\10.0.18362.0\\ucrt -IC:\\Program Files (x86)\\Windows Kits\\10\\include\\10.0.18362.0\\shared -IC:\\Program Files (x86)\\Windows Kits\\10\\include\\10.0.18362.0\\um -IC:\\Program Files (x86)\\Windows Kits\\10\\include\\10.0.18362.0\\winrt -IC:\\Program Files (x86)\\Windows Kits\\10\\include\\10.0.18362.0\\cppwinrt /EHsc /Tpsrc/sentencepiece/sentencepiece_wrap.cxx /Fobuild\\temp.win-amd64-3.10\\Release\\src/sentencepiece/sentencepiece_wrap.obj /MT /I..\\build\\root\\include\n",
      "  cl : Command line warning D9025 : overriding '/MD' with '/MT'\n",
      "  sentencepiece_wrap.cxx\n",
      "  src/sentencepiece/sentencepiece_wrap.cxx(2809): fatal error C1083: Cannot open include file: 'sentencepiece_processor.h': No such file or directory\n",
      "  error: command 'C:\\\\Program Files (x86)\\\\Microsoft Visual Studio\\\\2019\\\\Community\\\\VC\\\\Tools\\\\MSVC\\\\14.28.29333\\\\bin\\\\HostX86\\\\x64\\\\cl.exe' failed with exit code 2\n",
      "  ----------------------------------------\n",
      "  ERROR: Failed building wheel for sentencepiece\n",
      "    ERROR: Command errored out with exit status 1:\n",
      "     command: 'C:\\Users\\Hououin Kyouma\\PycharmProjects\\nlp-laboratories\\venv\\Scripts\\python.exe' -u -c 'import io, os, sys, setuptools, tokenize; sys.argv[0] = '\"'\"'C:\\\\Users\\\\Hououin Kyouma\\\\AppData\\\\Local\\\\Temp\\\\pip-install-bcb_kq0m\\\\sentencepiece_60a1a42af2bc411d84d24968cb6bcfad\\\\setup.py'\"'\"'; __file__='\"'\"'C:\\\\Users\\\\Hououin Kyouma\\\\AppData\\\\Local\\\\Temp\\\\pip-install-bcb_kq0m\\\\sentencepiece_60a1a42af2bc411d84d24968cb6bcfad\\\\setup.py'\"'\"';f = getattr(tokenize, '\"'\"'open'\"'\"', open)(__file__) if os.path.exists(__file__) else io.StringIO('\"'\"'from setuptools import setup; setup()'\"'\"');code = f.read().replace('\"'\"'\\r\\n'\"'\"', '\"'\"'\\n'\"'\"');f.close();exec(compile(code, __file__, '\"'\"'exec'\"'\"'))' install --record 'C:\\Users\\Hououin Kyouma\\AppData\\Local\\Temp\\pip-record-kp1kc9o1\\install-record.txt' --single-version-externally-managed --compile --install-headers 'C:\\Users\\Hououin Kyouma\\PycharmProjects\\nlp-laboratories\\venv\\include\\site\\python3.10\\sentencepiece'\n",
      "         cwd: C:\\Users\\Hououin Kyouma\\AppData\\Local\\Temp\\pip-install-bcb_kq0m\\sentencepiece_60a1a42af2bc411d84d24968cb6bcfad\\\n",
      "    Complete output (22 lines):\n",
      "    C:\\Users\\Hououin Kyouma\\PycharmProjects\\nlp-laboratories\\venv\\lib\\site-packages\\setuptools\\dist.py:691: UserWarning: Usage of dash-separated 'description-file' will not be supported in future versions. Please use the underscore name 'description_file' instead\n",
      "      warnings.warn(\n",
      "    running install\n",
      "    running build\n",
      "    running build_py\n",
      "    creating build\n",
      "    creating build\\lib.win-amd64-3.10\n",
      "    creating build\\lib.win-amd64-3.10\\sentencepiece\n",
      "    copying src\\sentencepiece/__init__.py -> build\\lib.win-amd64-3.10\\sentencepiece\n",
      "    copying src\\sentencepiece/sentencepiece_model_pb2.py -> build\\lib.win-amd64-3.10\\sentencepiece\n",
      "    copying src\\sentencepiece/sentencepiece_pb2.py -> build\\lib.win-amd64-3.10\\sentencepiece\n",
      "    running build_ext\n",
      "    building 'sentencepiece._sentencepiece' extension\n",
      "    creating build\\temp.win-amd64-3.10\n",
      "    creating build\\temp.win-amd64-3.10\\Release\n",
      "    creating build\\temp.win-amd64-3.10\\Release\\src\n",
      "    creating build\\temp.win-amd64-3.10\\Release\\src\\sentencepiece\n",
      "    C:\\Program Files (x86)\\Microsoft Visual Studio\\2019\\Community\\VC\\Tools\\MSVC\\14.28.29333\\bin\\HostX86\\x64\\cl.exe /c /nologo /Ox /W3 /GL /DNDEBUG /MD -IC:\\Users\\Hououin Kyouma\\PycharmProjects\\nlp-laboratories\\venv\\include -IC:\\Users\\Hououin Kyouma\\AppData\\Local\\Programs\\Python\\Python310\\include -IC:\\Users\\Hououin Kyouma\\AppData\\Local\\Programs\\Python\\Python310\\Include -IC:\\Program Files (x86)\\Microsoft Visual Studio\\2019\\Community\\VC\\Tools\\MSVC\\14.28.29333\\ATLMFC\\include -IC:\\Program Files (x86)\\Microsoft Visual Studio\\2019\\Community\\VC\\Tools\\MSVC\\14.28.29333\\include -IC:\\Program Files (x86)\\Windows Kits\\NETFXSDK\\4.6.1\\include\\um -IC:\\Program Files (x86)\\Windows Kits\\10\\include\\10.0.18362.0\\ucrt -IC:\\Program Files (x86)\\Windows Kits\\10\\include\\10.0.18362.0\\shared -IC:\\Program Files (x86)\\Windows Kits\\10\\include\\10.0.18362.0\\um -IC:\\Program Files (x86)\\Windows Kits\\10\\include\\10.0.18362.0\\winrt -IC:\\Program Files (x86)\\Windows Kits\\10\\include\\10.0.18362.0\\cppwinrt /EHsc /Tpsrc/sentencepiece/sentencepiece_wrap.cxx /Fobuild\\temp.win-amd64-3.10\\Release\\src/sentencepiece/sentencepiece_wrap.obj /MT /I..\\build\\root\\include\n",
      "    cl : Command line warning D9025 : overriding '/MD' with '/MT'\n",
      "    sentencepiece_wrap.cxx\n",
      "    src/sentencepiece/sentencepiece_wrap.cxx(2809): fatal error C1083: Cannot open include file: 'sentencepiece_processor.h': No such file or directory\n",
      "    error: command 'C:\\\\Program Files (x86)\\\\Microsoft Visual Studio\\\\2019\\\\Community\\\\VC\\\\Tools\\\\MSVC\\\\14.28.29333\\\\bin\\\\HostX86\\\\x64\\\\cl.exe' failed with exit code 2\n",
      "    ----------------------------------------\n",
      "ERROR: Command errored out with exit status 1: 'C:\\Users\\Hououin Kyouma\\PycharmProjects\\nlp-laboratories\\venv\\Scripts\\python.exe' -u -c 'import io, os, sys, setuptools, tokenize; sys.argv[0] = '\"'\"'C:\\\\Users\\\\Hououin Kyouma\\\\AppData\\\\Local\\\\Temp\\\\pip-install-bcb_kq0m\\\\sentencepiece_60a1a42af2bc411d84d24968cb6bcfad\\\\setup.py'\"'\"'; __file__='\"'\"'C:\\\\Users\\\\Hououin Kyouma\\\\AppData\\\\Local\\\\Temp\\\\pip-install-bcb_kq0m\\\\sentencepiece_60a1a42af2bc411d84d24968cb6bcfad\\\\setup.py'\"'\"';f = getattr(tokenize, '\"'\"'open'\"'\"', open)(__file__) if os.path.exists(__file__) else io.StringIO('\"'\"'from setuptools import setup; setup()'\"'\"');code = f.read().replace('\"'\"'\\r\\n'\"'\"', '\"'\"'\\n'\"'\"');f.close();exec(compile(code, __file__, '\"'\"'exec'\"'\"'))' install --record 'C:\\Users\\Hououin Kyouma\\AppData\\Local\\Temp\\pip-record-kp1kc9o1\\install-record.txt' --single-version-externally-managed --compile --install-headers 'C:\\Users\\Hououin Kyouma\\PycharmProjects\\nlp-laboratories\\venv\\include\\site\\python3.10\\sentencepiece' Check the logs for full command output.\n",
      "WARNING: You are using pip version 21.1.2; however, version 22.1 is available.\n",
      "You should consider upgrading via the 'C:\\Users\\Hououin Kyouma\\PycharmProjects\\nlp-laboratories\\venv\\Scripts\\python.exe -m pip install --upgrade pip' command.\n"
     ]
    },
    {
     "name": "stdout",
     "output_type": "stream",
     "text": [
      "Collecting py4j\n",
      "  Downloading py4j-0.10.9.5-py2.py3-none-any.whl (199 kB)\n",
      "Collecting importlib-metadata<4.0.0,>=3.7.0\n",
      "  Downloading importlib_metadata-3.10.1-py3-none-any.whl (14 kB)\n",
      "Collecting overrides<4.0.0,>=3.0.0\n",
      "  Downloading overrides-3.1.0.tar.gz (11 kB)\n",
      "Collecting zipp>=0.5\n",
      "  Downloading zipp-3.8.0-py3-none-any.whl (5.4 kB)\n",
      "Requirement already satisfied: pillow>=6.2.0 in c:\\users\\hououin kyouma\\pycharmprojects\\nlp-laboratories\\venv\\lib\\site-packages (from matplotlib>=2.2.3->flair) (9.0.1)\n",
      "Requirement already satisfied: kiwisolver>=1.0.1 in c:\\users\\hououin kyouma\\pycharmprojects\\nlp-laboratories\\venv\\lib\\site-packages (from matplotlib>=2.2.3->flair) (1.4.2)\n",
      "Requirement already satisfied: packaging>=20.0 in c:\\users\\hououin kyouma\\pycharmprojects\\nlp-laboratories\\venv\\lib\\site-packages (from matplotlib>=2.2.3->flair) (21.3)\n",
      "Requirement already satisfied: cycler>=0.10 in c:\\users\\hououin kyouma\\pycharmprojects\\nlp-laboratories\\venv\\lib\\site-packages (from matplotlib>=2.2.3->flair) (0.11.0)\n",
      "Requirement already satisfied: fonttools>=4.22.0 in c:\\users\\hououin kyouma\\pycharmprojects\\nlp-laboratories\\venv\\lib\\site-packages (from matplotlib>=2.2.3->flair) (4.31.2)\n",
      "Requirement already satisfied: pyparsing>=2.2.1 in c:\\users\\hououin kyouma\\pycharmprojects\\nlp-laboratories\\venv\\lib\\site-packages (from matplotlib>=2.2.3->flair) (3.0.7)\n",
      "Requirement already satisfied: certifi>=2017.4.17 in c:\\users\\hououin kyouma\\pycharmprojects\\nlp-laboratories\\venv\\lib\\site-packages (from requests[socks]->gdown==4.4.0->flair) (2021.10.8)\n",
      "Requirement already satisfied: urllib3<1.27,>=1.21.1 in c:\\users\\hououin kyouma\\pycharmprojects\\nlp-laboratories\\venv\\lib\\site-packages (from requests[socks]->gdown==4.4.0->flair) (1.26.8)\n",
      "Requirement already satisfied: idna<4,>=2.5 in c:\\users\\hououin kyouma\\pycharmprojects\\nlp-laboratories\\venv\\lib\\site-packages (from requests[socks]->gdown==4.4.0->flair) (3.3)\n",
      "Requirement already satisfied: charset-normalizer~=2.0.0 in c:\\users\\hououin kyouma\\pycharmprojects\\nlp-laboratories\\venv\\lib\\site-packages (from requests[socks]->gdown==4.4.0->flair) (2.0.12)\n",
      "Requirement already satisfied: joblib>=0.11 in c:\\users\\hououin kyouma\\pycharmprojects\\nlp-laboratories\\venv\\lib\\site-packages (from scikit-learn>=0.21.3->flair) (1.1.0)\n",
      "Requirement already satisfied: threadpoolctl>=2.0.0 in c:\\users\\hououin kyouma\\pycharmprojects\\nlp-laboratories\\venv\\lib\\site-packages (from scikit-learn>=0.21.3->flair) (3.1.0)\n",
      "Requirement already satisfied: typing-extensions in c:\\users\\hououin kyouma\\pycharmprojects\\nlp-laboratories\\venv\\lib\\site-packages (from torch!=1.8,>=1.5.0->flair) (4.1.1)\n",
      "Requirement already satisfied: colorama in c:\\users\\hououin kyouma\\pycharmprojects\\nlp-laboratories\\venv\\lib\\site-packages (from tqdm>=4.26.0->flair) (0.4.4)\n",
      "Requirement already satisfied: tokenizers!=0.11.3,<0.13,>=0.11.1 in c:\\users\\hououin kyouma\\pycharmprojects\\nlp-laboratories\\venv\\lib\\site-packages (from transformers>=4.0.0->flair) (0.12.1)\n",
      "Requirement already satisfied: pyyaml>=5.1 in c:\\users\\hououin kyouma\\pycharmprojects\\nlp-laboratories\\venv\\lib\\site-packages (from transformers>=4.0.0->flair) (6.0)\n",
      "Collecting soupsieve>1.2\n",
      "  Using cached soupsieve-2.3.2.post1-py3-none-any.whl (37 kB)\n",
      "Requirement already satisfied: wcwidth>=0.2.5 in c:\\users\\hououin kyouma\\pycharmprojects\\nlp-laboratories\\venv\\lib\\site-packages (from ftfy->flair) (0.2.5)\n",
      "Collecting PySocks!=1.5.7,>=1.5.6\n",
      "  Downloading PySocks-1.7.1-py3-none-any.whl (16 kB)\n",
      "Building wheels for collected packages: gdown, mpld3, sentencepiece, overrides, sqlitedict, langdetect, pptree, wikipedia-api\n",
      "  Building wheel for gdown (PEP 517): started\n",
      "  Building wheel for gdown (PEP 517): finished with status 'done'\n",
      "  Created wheel for gdown: filename=gdown-4.4.0-py3-none-any.whl size=14759 sha256=3c66887f062755171308800c974ceebd57cff3d3aa7a55ee5f207d545c583675\n",
      "  Stored in directory: c:\\users\\hououin kyouma\\appdata\\local\\pip\\cache\\wheels\\03\\0b\\3f\\6ddf67a417a5b400b213b0bb772a50276c199a386b12c06bfc\n",
      "  Building wheel for mpld3 (setup.py): started\n",
      "  Building wheel for mpld3 (setup.py): finished with status 'done'\n",
      "  Created wheel for mpld3: filename=mpld3-0.3-py3-none-any.whl size=116701 sha256=7b373fd88c8c888faa51474dd9d3139af2cf6e84a930002e7db0b98aa85e770a\n",
      "  Stored in directory: c:\\users\\hououin kyouma\\appdata\\local\\pip\\cache\\wheels\\9c\\92\\f7\\45d9aac5dcfb1c2a1761a272365599cc7ba1050ce211a3fd9a\n",
      "  Building wheel for sentencepiece (setup.py): started\n",
      "  Building wheel for sentencepiece (setup.py): finished with status 'error'\n",
      "  Running setup.py clean for sentencepiece\n",
      "  Building wheel for overrides (setup.py): started\n",
      "  Building wheel for overrides (setup.py): finished with status 'done'\n",
      "  Created wheel for overrides: filename=overrides-3.1.0-py3-none-any.whl size=10188 sha256=6b1528a55c97a4fc3e15b747fb9011f4a76745bc8ce2d86cb80263690330a7f8\n",
      "  Stored in directory: c:\\users\\hououin kyouma\\appdata\\local\\pip\\cache\\wheels\\bd\\23\\63\\4d5849844f8f9d32be09e1b9b278e80de2d8314fbf1e28068b\n",
      "  Building wheel for sqlitedict (setup.py): started\n",
      "  Building wheel for sqlitedict (setup.py): finished with status 'done'\n",
      "  Created wheel for sqlitedict: filename=sqlitedict-2.0.0-py3-none-any.whl size=15735 sha256=bdbb05e72cea00d797babb08b5123985425f5e36ea52cf158d309b1782b7f432\n",
      "  Stored in directory: c:\\users\\hououin kyouma\\appdata\\local\\pip\\cache\\wheels\\80\\d9\\65\\5e3849a8c75c79f1c6266475969f4c4b83aba18061ab209eb7\n",
      "  Building wheel for langdetect (setup.py): started\n",
      "  Building wheel for langdetect (setup.py): finished with status 'done'\n",
      "  Created wheel for langdetect: filename=langdetect-1.0.9-py3-none-any.whl size=993241 sha256=379f5b8a035ef7819909179a1d9040b6fabea44894b05460fc90e41631fb0172\n",
      "  Stored in directory: c:\\users\\hououin kyouma\\appdata\\local\\pip\\cache\\wheels\\95\\03\\7d\\59ea870c70ce4e5a370638b5462a7711ab78fba2f655d05106\n",
      "  Building wheel for pptree (setup.py): started\n",
      "  Building wheel for pptree (setup.py): finished with status 'done'\n",
      "  Created wheel for pptree: filename=pptree-3.1-py3-none-any.whl size=4628 sha256=10106dce33a8fa5f68e6211385b78de12f257d050145cb30034f4f068dcfec7f\n",
      "  Stored in directory: c:\\users\\hououin kyouma\\appdata\\local\\pip\\cache\\wheels\\9f\\b6\\0e\\6f26eb9e6eb53ff2107a7888d72b5a6a597593956113037828\n",
      "  Building wheel for wikipedia-api (setup.py): started\n",
      "  Building wheel for wikipedia-api (setup.py): finished with status 'done'\n",
      "  Created wheel for wikipedia-api: filename=Wikipedia_API-0.5.4-py3-none-any.whl size=13476 sha256=372180410bc638d22873e7c029a437107b19a21e8ddcde9b5d18804043d76416\n",
      "  Stored in directory: c:\\users\\hououin kyouma\\appdata\\local\\pip\\cache\\wheels\\c7\\17\\c5\\28bd9f7b1b3fa4bc52946b0f7175a01810ef18969c4ba49827\n",
      "Successfully built gdown mpld3 overrides sqlitedict langdetect pptree wikipedia-api\n",
      "Failed to build sentencepiece\n",
      "Installing collected packages: zipp, soupsieve, PySocks, Cython, sentencepiece, py4j, overrides, networkx, importlib-metadata, gensim, future, cloudpickle, beautifulsoup4, wikipedia-api, tabulate, sqlitedict, segtok, pptree, mpld3, more-itertools, lxml, langdetect, konoha, janome, hyperopt, gdown, ftfy, deprecated, conllu, bpemb, flair\n",
      "    Running setup.py install for sentencepiece: started\n",
      "    Running setup.py install for sentencepiece: finished with status 'error'\n"
     ]
    }
   ]
  },
  {
   "cell_type": "markdown",
   "source": [
    "# Ładowanie zbioru danych i słownika z etykietami.\n",
    "\n",
    "**Zadanie1: (1 punkt):** Stwórz słownik etykiet z wczytanego korpusu korzystając z funkcji `make_label_dictionary()`. W naszym zbiorze, etykiety do wykrycia występują w kolumnie `ner`, której identyfikator został zapisany w linijce 6. Tutorial: https://github.com/flairNLP/flair/blob/master/resources/docs/TUTORIAL_6_CORPUS.md może okazać się pomocny.\n",
    "\n",
    "Efektem działania powinna być lista etykiet np: \n",
    "`Dictionary with 20 tags: <unk>, Variable, Class, Application, User_Interface_Element, Code_Block, Language, Function, Data_Structure, Library, Data_Type, File_Type, File_Name, Version, HTML_XML_Tag, Device, Operating_System, Website, User_Name, Algorithm`"
   ],
   "metadata": {
    "id": "AyApRy6G7YQk"
   }
  },
  {
   "cell_type": "code",
   "source": [
    "from flair.datasets import NER_ENGLISH_STACKOVERFLOW    # zbiór otagowanych postów na Stacku\n",
    "\n",
    "corpus = NER_ENGLISH_STACKOVERFLOW().downsample(0.1)   # pobieramy korpus i zmniejszamy jego wielkość\n",
    "corpus.filter_empty_sentences()                         # usuwamy puste zdania\n",
    "\n",
    "label_type = 'ner'   # identyfikator pod którym możemy dostać typy etykiet\n",
    "label_dict = None    # TODO\n",
    "print('\\n\\nEtykiety do wykrycia')\n",
    "print(label_dict)"
   ],
   "metadata": {
    "id": "eK84adKF6GLr"
   },
   "execution_count": null,
   "outputs": []
  },
  {
   "cell_type": "markdown",
   "source": [
    "# Embeddingi\n",
    "\n",
    "W narzędziu Flair możemy bardzo prosto składać ze sobą różne embeddingi. \n",
    "\n",
    "**Zad2 (2 punkty):** Zapoznaj się z działaniem `StackedEmbeddings` opisanego w https://github.com/flairNLP/flair/blob/master/resources/docs/TUTORIAL_3_WORD_EMBEDDING.md i zbuduj embeddingi zawierające reprezentacje pochodzące zarówno z Glove jak i Flairowe, oparte na `news-forward`. "
   ],
   "metadata": {
    "id": "vlz60uuR83oR"
   }
  },
  {
   "cell_type": "code",
   "execution_count": null,
   "metadata": {
    "id": "yzCwq37iwFo4"
   },
   "outputs": [],
   "source": [
    "from flair.embeddings import WordEmbeddings, StackedEmbeddings, FlairEmbeddings\n",
    "\n",
    "embeddings = None    # TODO"
   ]
  },
  {
   "cell_type": "markdown",
   "source": [
    "# Tagger i trainer\n",
    "\n",
    "**Zadanie 3 (2 punkty)** Bazując na treściach opisanych w https://github.com/flairNLP/flair/blob/master/resources/docs/TUTORIAL_7_TRAINING_A_MODEL.md przygotuj obiekt `SequenceTagger`, którego rozmiar wartswy ukrytej wyniesie 256. Do obiektu tego przekażemy stworzone wcześniej embeddingi, słownik `label_dict` i nazwę kolumny z etykietą ze zmiennej `label_type`. Ustawmy `use_crf` na True.\n",
    "\n",
    "Przygotuj obiekt `ModelTrainer`, który przyjmie zarówno nasz korpus jak i stworzony przed chwilą `SequenceTagger`."
   ],
   "metadata": {
    "id": "6Wxgw7Uc91e3"
   }
  },
  {
   "cell_type": "code",
   "source": [
    "from flair.models import SequenceTagger\n",
    "from flair.trainers import ModelTrainer\n",
    "\n",
    "\n",
    "tagger = None    # TODO\n",
    "trainer = None   # TODO\n",
    "\n",
    "\n",
    "#stworzony trainer możemy zacząć trenować!\n",
    "trainer.train('resources/taggers/example-upos',\n",
    "              learning_rate=0.1,\n",
    "              mini_batch_size=32,\n",
    "              max_epochs=5)\n",
    "\n",
    "# a kiedy wytrenujemy, wczytujemy najlepszy model.\n",
    "model = SequenceTagger.load('resources/taggers/example-upos/final-model.pt')\n"
   ],
   "metadata": {
    "id": "ZqglzMPP92Fq"
   },
   "execution_count": null,
   "outputs": []
  },
  {
   "cell_type": "markdown",
   "source": [
    "# Predykcja z udziałem modelu\n",
    "\n",
    "Jeśli model został wytrenowany, poniżej znajdziemy fragment kodu, który może wykryć encje w zdaniach."
   ],
   "metadata": {
    "id": "lxrd6m0H_-SJ"
   }
  },
  {
   "cell_type": "code",
   "source": [
    "from flair.data import Sentence\n",
    "\n",
    "# Jeśli nasz model się wyuczył, powinien wykryć Python jako język.\n",
    "# Uwaga, ponieważ pracujemy na niewielkim podzbiorze zbioru danych (downsample(0.1) próbkuje 10%), \n",
    "# otrzymywane wyniki mogą być kiepskiej jakości, najlepiej zwiększyść ilość danych \n",
    "# jeśli pracujemy w domu.\n",
    "sentence = Sentence('huge files can be opened from Python 3.')   # stwórz obiekt zdania\n",
    "model.predict(sentence)                                         # wykryj encje nazwane\n",
    "print(sentence.to_tagged_string())                              # wyświetl zdanie i wykryte w nim encje"
   ],
   "metadata": {
    "id": "Koq76zqawM3P"
   },
   "execution_count": null,
   "outputs": []
  },
  {
   "cell_type": "code",
   "source": [
    ""
   ],
   "metadata": {
    "id": "zOgY6c2y2eWb"
   },
   "execution_count": null,
   "outputs": []
  }
 ]
}